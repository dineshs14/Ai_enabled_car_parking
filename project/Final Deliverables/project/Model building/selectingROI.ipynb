{
 "cells": [
  {
   "cell_type": "code",
   "execution_count": 2,
   "metadata": {},
   "outputs": [],
   "source": [
    "import cv2\n",
    "import cvzone\n",
    "import pickle\n",
    "import numpy"
   ]
  },
  {
   "cell_type": "code",
   "execution_count": 3,
   "metadata": {},
   "outputs": [],
   "source": [
    "# Define the width and height of ROI\n",
    "width, height = 107, 48\n",
    "\n",
    "# Creating an empty list or loading data from an existing file\n",
    "try:\n",
    "    with open('parkingSlotPosition', 'rb') as f:\n",
    "        posList = pickle.load(f)\n",
    "except FileNotFoundError:\n",
    "    posList = []"
   ]
  },
  {
   "cell_type": "code",
   "execution_count": 4,
   "metadata": {},
   "outputs": [],
   "source": [
    "\n",
    "def mouseClick(events, x, y, flags, params):\n",
    "    # Adding ROI values to posList\n",
    "    if events == cv2.EVENT_LBUTTONDOWN:\n",
    "        posList.append((x, y))\n",
    "\n",
    "    # Removing unwanted ROI from posList\n",
    "    if events == cv2.EVENT_RBUTTONDOWN:\n",
    "        for i, pos in enumerate(posList):\n",
    "            x1, y1 = pos\n",
    "            if x1 < x < x1 + width and y1 < y < y1 + height:\n",
    "                posList.pop(i)\n",
    "                break  # Exit the loop after removing one ROI\n",
    "\n",
    "    # Saving the posList values to parkingSlotPosition file\n",
    "    with open('parkingSlotPosition', 'wb') as f:\n",
    "        pickle.dump(posList, f)"
   ]
  },
  {
   "cell_type": "code",
   "execution_count": 5,
   "metadata": {},
   "outputs": [],
   "source": [
    "while True:\n",
    "    img = cv2.imread(r'F:\\naan mudhalvan\\ai enabled car parking\\Data\\carParkImg.png')\n",
    "    for pos in posList:\n",
    "        cv2.rectangle(img, pos, (pos[0] + width, pos[1] + height), (255, 255, 255), 2)\n",
    "    cv2.imshow(\"Image\", img)\n",
    "    cv2.setMouseCallback(\"Image\", mouseClick)\n",
    "\n",
    "    key = cv2.waitKey(1)\n",
    "    if key == ord('q'):\n",
    "        break\n",
    "    elif key == ord('s'):\n",
    "        with open('parkingSlotPosition', 'wb') as f:\n",
    "            pickle.dump(posList, f)\n",
    "        print(\"Saved positions to file.\")\n",
    "    elif key == ord('l'):\n",
    "        try:\n",
    "            with open('parkingSlotPosition', 'rb') as f:\n",
    "                posList = pickle.load(f)\n",
    "            print(\"Loaded positions from file.\")\n",
    "        except FileNotFoundError:\n",
    "            print(\"No saved positions found.\")\n",
    "\n",
    "cv2.destroyAllWindows()"
   ]
  }
 ],
 "metadata": {
  "kernelspec": {
   "display_name": "Python 3",
   "language": "python",
   "name": "python3"
  },
  "language_info": {
   "codemirror_mode": {
    "name": "ipython",
    "version": 3
   },
   "file_extension": ".py",
   "mimetype": "text/x-python",
   "name": "python",
   "nbconvert_exporter": "python",
   "pygments_lexer": "ipython3",
   "version": "3.9.0"
  },
  "orig_nbformat": 4
 },
 "nbformat": 4,
 "nbformat_minor": 2
}
