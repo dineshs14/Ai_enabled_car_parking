{
 "cells": [
  {
   "cell_type": "code",
   "execution_count": 1,
   "metadata": {},
   "outputs": [],
   "source": [
    "from tensorflow.keras.preprocessing.image import ImageDataGenerator\n",
    "from tensorflow.keras.models import Sequential\n",
    "from tensorflow.keras.layers import Conv2D, MaxPooling2D, Flatten, Dense"
   ]
  },
  {
   "cell_type": "code",
   "execution_count": 2,
   "metadata": {},
   "outputs": [],
   "source": [
    "train_datagen = ImageDataGenerator(rescale=1/255, zoom_range=0.2, horizontal_flip=True, vertical_flip=False)\n",
    "test_datagen = ImageDataGenerator(rescale=1/255)"
   ]
  },
  {
   "cell_type": "code",
   "execution_count": 3,
   "metadata": {},
   "outputs": [
    {
     "name": "stdout",
     "output_type": "stream",
     "text": [
      "Found 5400 images belonging to 90 classes.\n",
      "Found 450 images belonging to 90 classes.\n"
     ]
    }
   ],
   "source": [
    "x_train = train_datagen.flow_from_directory(r'F:\\naan mudhalvan\\assignment 3\\archive\\animals\\animals',\n",
    "                                             target_size=(64, 64),\n",
    "                                             class_mode='categorical',\n",
    "                                             batch_size=100)\n",
    "\n",
    "x_test = test_datagen.flow_from_directory(r'F:\\naan mudhalvan\\assignment 3\\archive\\animals\\test data',\n",
    "                                           target_size=(64, 64),\n",
    "                                           class_mode='categorical',\n",
    "                                           batch_size=100)"
   ]
  },
  {
   "cell_type": "code",
   "execution_count": 4,
   "metadata": {},
   "outputs": [
    {
     "data": {
      "text/plain": [
       "{'antelope': 0,\n",
       " 'badger': 1,\n",
       " 'bat': 2,\n",
       " 'bear': 3,\n",
       " 'bee': 4,\n",
       " 'beetle': 5,\n",
       " 'bison': 6,\n",
       " 'boar': 7,\n",
       " 'butterfly': 8,\n",
       " 'cat': 9,\n",
       " 'caterpillar': 10,\n",
       " 'chimpanzee': 11,\n",
       " 'cockroach': 12,\n",
       " 'cow': 13,\n",
       " 'coyote': 14,\n",
       " 'crab': 15,\n",
       " 'crow': 16,\n",
       " 'deer': 17,\n",
       " 'dog': 18,\n",
       " 'dolphin': 19,\n",
       " 'donkey': 20,\n",
       " 'dragonfly': 21,\n",
       " 'duck': 22,\n",
       " 'eagle': 23,\n",
       " 'elephant': 24,\n",
       " 'flamingo': 25,\n",
       " 'fly': 26,\n",
       " 'fox': 27,\n",
       " 'goat': 28,\n",
       " 'goldfish': 29,\n",
       " 'goose': 30,\n",
       " 'gorilla': 31,\n",
       " 'grasshopper': 32,\n",
       " 'hamster': 33,\n",
       " 'hare': 34,\n",
       " 'hedgehog': 35,\n",
       " 'hippopotamus': 36,\n",
       " 'hornbill': 37,\n",
       " 'horse': 38,\n",
       " 'hummingbird': 39,\n",
       " 'hyena': 40,\n",
       " 'jellyfish': 41,\n",
       " 'kangaroo': 42,\n",
       " 'koala': 43,\n",
       " 'ladybugs': 44,\n",
       " 'leopard': 45,\n",
       " 'lion': 46,\n",
       " 'lizard': 47,\n",
       " 'lobster': 48,\n",
       " 'mosquito': 49,\n",
       " 'moth': 50,\n",
       " 'mouse': 51,\n",
       " 'octopus': 52,\n",
       " 'okapi': 53,\n",
       " 'orangutan': 54,\n",
       " 'otter': 55,\n",
       " 'owl': 56,\n",
       " 'ox': 57,\n",
       " 'oyster': 58,\n",
       " 'panda': 59,\n",
       " 'parrot': 60,\n",
       " 'pelecaniformes': 61,\n",
       " 'penguin': 62,\n",
       " 'pig': 63,\n",
       " 'pigeon': 64,\n",
       " 'porcupine': 65,\n",
       " 'possum': 66,\n",
       " 'raccoon': 67,\n",
       " 'rat': 68,\n",
       " 'reindeer': 69,\n",
       " 'rhinoceros': 70,\n",
       " 'sandpiper': 71,\n",
       " 'seahorse': 72,\n",
       " 'seal': 73,\n",
       " 'shark': 74,\n",
       " 'sheep': 75,\n",
       " 'snake': 76,\n",
       " 'sparrow': 77,\n",
       " 'squid': 78,\n",
       " 'squirrel': 79,\n",
       " 'starfish': 80,\n",
       " 'swan': 81,\n",
       " 'tiger': 82,\n",
       " 'turkey': 83,\n",
       " 'turtle': 84,\n",
       " 'whale': 85,\n",
       " 'wolf': 86,\n",
       " 'wombat': 87,\n",
       " 'woodpecker': 88,\n",
       " 'zebra': 89}"
      ]
     },
     "execution_count": 4,
     "metadata": {},
     "output_type": "execute_result"
    }
   ],
   "source": [
    "x_train.class_indices"
   ]
  },
  {
   "cell_type": "code",
   "execution_count": 5,
   "metadata": {},
   "outputs": [],
   "source": [
    "model = Sequential()\n",
    "\n",
    "# input layer\n",
    "model.add(Conv2D(32, (3, 3), activation='relu', input_shape=(64, 64, 3)))\n",
    "model.add(MaxPooling2D(pool_size=(2, 2)))\n",
    "\n",
    "# convolutional layer\n",
    "model.add(Conv2D(64, (3, 3), activation='relu'))\n",
    "model.add(MaxPooling2D(pool_size=(2, 2)))\n",
    "\n",
    "# flatten layer\n",
    "model.add(Flatten())\n",
    "\n",
    "# hidden layer-1\n",
    "model.add(Dense(300, activation='relu'))\n",
    "\n",
    "# hidden layer-2\n",
    "model.add(Dense(150, activation='relu'))\n",
    "\n",
    "# output layer\n",
    "model.add(Dense(90, activation='sigmoid'))"
   ]
  },
  {
   "cell_type": "code",
   "execution_count": 6,
   "metadata": {},
   "outputs": [],
   "source": [
    "model.compile(optimizer='adam', loss='categorical_crossentropy', metrics=['accuracy'])"
   ]
  },
  {
   "cell_type": "code",
   "execution_count": 8,
   "metadata": {},
   "outputs": [
    {
     "name": "stderr",
     "output_type": "stream",
     "text": [
      "C:\\Users\\dinfi\\AppData\\Local\\Temp\\ipykernel_2140\\3022890402.py:1: UserWarning: `Model.fit_generator` is deprecated and will be removed in a future version. Please use `Model.fit`, which supports generators.\n",
      "  model.fit_generator(x_train, steps_per_epoch=len(x_train), epochs=50, validation_data=x_test, validation_steps=len(x_test))\n"
     ]
    },
    {
     "name": "stdout",
     "output_type": "stream",
     "text": [
      "Epoch 1/50\n",
      "54/54 [==============================] - 264s 5s/step - loss: 4.4491 - accuracy: 0.0230 - val_loss: 4.3224 - val_accuracy: 0.0333\n",
      "Epoch 2/50\n",
      "54/54 [==============================] - 58s 1s/step - loss: 4.1761 - accuracy: 0.0611 - val_loss: 3.9014 - val_accuracy: 0.1022\n",
      "Epoch 3/50\n",
      "54/54 [==============================] - 58s 1s/step - loss: 3.7830 - accuracy: 0.1191 - val_loss: 3.5454 - val_accuracy: 0.1844\n",
      "Epoch 4/50\n",
      "54/54 [==============================] - 57s 1s/step - loss: 3.4702 - accuracy: 0.1780 - val_loss: 3.4417 - val_accuracy: 0.1867\n",
      "Epoch 5/50\n",
      "54/54 [==============================] - 103s 2s/step - loss: 3.2029 - accuracy: 0.2259 - val_loss: 3.2935 - val_accuracy: 0.2156\n",
      "Epoch 6/50\n",
      "54/54 [==============================] - 94s 2s/step - loss: 2.9757 - accuracy: 0.2657 - val_loss: 2.9569 - val_accuracy: 0.2867\n",
      "Epoch 7/50\n",
      "54/54 [==============================] - 59s 1s/step - loss: 2.7366 - accuracy: 0.3224 - val_loss: 2.6064 - val_accuracy: 0.3622\n",
      "Epoch 8/50\n",
      "54/54 [==============================] - 58s 1s/step - loss: 2.5568 - accuracy: 0.3580 - val_loss: 2.6129 - val_accuracy: 0.3644\n",
      "Epoch 9/50\n",
      "54/54 [==============================] - 60s 1s/step - loss: 2.3757 - accuracy: 0.4044 - val_loss: 2.2513 - val_accuracy: 0.4311\n",
      "Epoch 10/50\n",
      "54/54 [==============================] - 59s 1s/step - loss: 2.1961 - accuracy: 0.4409 - val_loss: 2.2403 - val_accuracy: 0.4733\n",
      "Epoch 11/50\n",
      "54/54 [==============================] - 64s 1s/step - loss: 2.0336 - accuracy: 0.4735 - val_loss: 2.2746 - val_accuracy: 0.4378\n",
      "Epoch 12/50\n",
      "54/54 [==============================] - 55s 1s/step - loss: 1.8600 - accuracy: 0.5159 - val_loss: 1.7633 - val_accuracy: 0.5556\n",
      "Epoch 13/50\n",
      "54/54 [==============================] - 54s 1s/step - loss: 1.7106 - accuracy: 0.5572 - val_loss: 1.7000 - val_accuracy: 0.5600\n",
      "Epoch 14/50\n",
      "54/54 [==============================] - 54s 1s/step - loss: 1.5597 - accuracy: 0.5950 - val_loss: 1.3114 - val_accuracy: 0.6556\n",
      "Epoch 15/50\n",
      "54/54 [==============================] - 54s 1s/step - loss: 1.4108 - accuracy: 0.6291 - val_loss: 1.2035 - val_accuracy: 0.6756\n",
      "Epoch 16/50\n",
      "54/54 [==============================] - 54s 1s/step - loss: 1.3154 - accuracy: 0.6522 - val_loss: 1.3489 - val_accuracy: 0.6244\n",
      "Epoch 17/50\n",
      "54/54 [==============================] - 54s 1s/step - loss: 1.1869 - accuracy: 0.6813 - val_loss: 1.0392 - val_accuracy: 0.7067\n",
      "Epoch 18/50\n",
      "54/54 [==============================] - 54s 1s/step - loss: 1.0521 - accuracy: 0.7231 - val_loss: 1.2919 - val_accuracy: 0.6689\n",
      "Epoch 19/50\n",
      "54/54 [==============================] - 55s 1s/step - loss: 0.9982 - accuracy: 0.7280 - val_loss: 0.8338 - val_accuracy: 0.7578\n",
      "Epoch 20/50\n",
      "54/54 [==============================] - 54s 1s/step - loss: 0.8430 - accuracy: 0.7689 - val_loss: 0.7788 - val_accuracy: 0.7867\n",
      "Epoch 21/50\n",
      "54/54 [==============================] - 55s 1s/step - loss: 0.7682 - accuracy: 0.7876 - val_loss: 0.8209 - val_accuracy: 0.7600\n",
      "Epoch 22/50\n",
      "54/54 [==============================] - 55s 1s/step - loss: 0.7110 - accuracy: 0.8057 - val_loss: 0.6739 - val_accuracy: 0.8200\n",
      "Epoch 23/50\n",
      "54/54 [==============================] - 54s 1s/step - loss: 0.6824 - accuracy: 0.8041 - val_loss: 0.6353 - val_accuracy: 0.8289\n",
      "Epoch 24/50\n",
      "54/54 [==============================] - 54s 1s/step - loss: 0.6040 - accuracy: 0.8352 - val_loss: 0.7266 - val_accuracy: 0.8067\n",
      "Epoch 25/50\n",
      "54/54 [==============================] - 55s 1s/step - loss: 0.5239 - accuracy: 0.8502 - val_loss: 0.7771 - val_accuracy: 0.7978\n",
      "Epoch 26/50\n",
      "54/54 [==============================] - 54s 1s/step - loss: 0.4840 - accuracy: 0.8657 - val_loss: 0.3548 - val_accuracy: 0.8867\n",
      "Epoch 27/50\n",
      "54/54 [==============================] - 55s 1s/step - loss: 0.4334 - accuracy: 0.8819 - val_loss: 0.4301 - val_accuracy: 0.8844\n",
      "Epoch 28/50\n",
      "54/54 [==============================] - 55s 1s/step - loss: 0.4361 - accuracy: 0.8769 - val_loss: 0.5583 - val_accuracy: 0.8511\n",
      "Epoch 29/50\n",
      "54/54 [==============================] - 54s 1s/step - loss: 0.3535 - accuracy: 0.9022 - val_loss: 0.3292 - val_accuracy: 0.9111\n",
      "Epoch 30/50\n",
      "54/54 [==============================] - 55s 1s/step - loss: 0.3328 - accuracy: 0.9089 - val_loss: 0.3215 - val_accuracy: 0.9156\n",
      "Epoch 31/50\n",
      "54/54 [==============================] - 54s 1s/step - loss: 0.3450 - accuracy: 0.8980 - val_loss: 0.3512 - val_accuracy: 0.8978\n",
      "Epoch 32/50\n",
      "54/54 [==============================] - 54s 1s/step - loss: 0.3194 - accuracy: 0.9137 - val_loss: 0.3609 - val_accuracy: 0.9133\n",
      "Epoch 33/50\n",
      "54/54 [==============================] - 55s 1s/step - loss: 0.2890 - accuracy: 0.9144 - val_loss: 0.2022 - val_accuracy: 0.9356\n",
      "Epoch 34/50\n",
      "54/54 [==============================] - 59s 1s/step - loss: 0.2253 - accuracy: 0.9383 - val_loss: 0.3334 - val_accuracy: 0.9133\n",
      "Epoch 35/50\n",
      "54/54 [==============================] - 54s 1s/step - loss: 0.2513 - accuracy: 0.9287 - val_loss: 0.3267 - val_accuracy: 0.9000\n",
      "Epoch 36/50\n",
      "54/54 [==============================] - 54s 1s/step - loss: 0.2360 - accuracy: 0.9328 - val_loss: 0.2404 - val_accuracy: 0.9178\n",
      "Epoch 37/50\n",
      "54/54 [==============================] - 55s 1s/step - loss: 0.2317 - accuracy: 0.9317 - val_loss: 0.2609 - val_accuracy: 0.9311\n",
      "Epoch 38/50\n",
      "54/54 [==============================] - 54s 1s/step - loss: 0.2266 - accuracy: 0.9337 - val_loss: 0.2735 - val_accuracy: 0.9200\n",
      "Epoch 39/50\n",
      "54/54 [==============================] - 55s 1s/step - loss: 0.2087 - accuracy: 0.9352 - val_loss: 0.2200 - val_accuracy: 0.9444\n",
      "Epoch 40/50\n",
      "54/54 [==============================] - 55s 1s/step - loss: 0.1986 - accuracy: 0.9428 - val_loss: 0.2448 - val_accuracy: 0.9156\n",
      "Epoch 41/50\n",
      "54/54 [==============================] - 55s 1s/step - loss: 0.1899 - accuracy: 0.9457 - val_loss: 0.1284 - val_accuracy: 0.9511\n",
      "Epoch 42/50\n",
      "54/54 [==============================] - 54s 1s/step - loss: 0.1810 - accuracy: 0.9494 - val_loss: 0.1539 - val_accuracy: 0.9489\n",
      "Epoch 43/50\n",
      "54/54 [==============================] - 54s 1s/step - loss: 0.1728 - accuracy: 0.9498 - val_loss: 0.2101 - val_accuracy: 0.9378\n",
      "Epoch 44/50\n",
      "54/54 [==============================] - 55s 1s/step - loss: 0.1796 - accuracy: 0.9469 - val_loss: 0.0582 - val_accuracy: 0.9800\n",
      "Epoch 45/50\n",
      "54/54 [==============================] - 55s 1s/step - loss: 0.1579 - accuracy: 0.9513 - val_loss: 0.2236 - val_accuracy: 0.9378\n",
      "Epoch 46/50\n",
      "54/54 [==============================] - 55s 1s/step - loss: 0.1639 - accuracy: 0.9543 - val_loss: 0.1606 - val_accuracy: 0.9511\n",
      "Epoch 47/50\n",
      "54/54 [==============================] - 55s 1s/step - loss: 0.1270 - accuracy: 0.9637 - val_loss: 0.2553 - val_accuracy: 0.9311\n",
      "Epoch 48/50\n",
      "54/54 [==============================] - 55s 1s/step - loss: 0.1336 - accuracy: 0.9593 - val_loss: 0.1670 - val_accuracy: 0.9467\n",
      "Epoch 49/50\n",
      "54/54 [==============================] - 55s 1s/step - loss: 0.1310 - accuracy: 0.9631 - val_loss: 0.1420 - val_accuracy: 0.9578\n",
      "Epoch 50/50\n",
      "54/54 [==============================] - 67s 1s/step - loss: 0.1319 - accuracy: 0.9593 - val_loss: 0.1927 - val_accuracy: 0.9422\n"
     ]
    },
    {
     "data": {
      "text/plain": [
       "<keras.callbacks.History at 0x2bcf2dc15e0>"
      ]
     },
     "execution_count": 8,
     "metadata": {},
     "output_type": "execute_result"
    }
   ],
   "source": [
    "model.fit_generator(x_train, steps_per_epoch=len(x_train), epochs=50, validation_data=x_test, validation_steps=len(x_test))"
   ]
  },
  {
   "cell_type": "code",
   "execution_count": 12,
   "metadata": {},
   "outputs": [
    {
     "name": "stdout",
     "output_type": "stream",
     "text": [
      "Test Loss: 0.1927068680524826\n",
      "Test Accuracy: 0.9422222375869751\n"
     ]
    }
   ],
   "source": [
    "# Evaluate the model on the test set\n",
    "test_loss, test_accuracy = model.evaluate(x_test, verbose=0)\n",
    "\n",
    "# Print the test loss and accuracy\n",
    "print('Test Loss:', test_loss)\n",
    "print('Test Accuracy:', test_accuracy)"
   ]
  }
 ],
 "metadata": {
  "kernelspec": {
   "display_name": "Python 3",
   "language": "python",
   "name": "python3"
  },
  "language_info": {
   "codemirror_mode": {
    "name": "ipython",
    "version": 3
   },
   "file_extension": ".py",
   "mimetype": "text/x-python",
   "name": "python",
   "nbconvert_exporter": "python",
   "pygments_lexer": "ipython3",
   "version": "3.9.0"
  },
  "orig_nbformat": 4
 },
 "nbformat": 4,
 "nbformat_minor": 2
}
